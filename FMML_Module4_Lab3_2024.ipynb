{
  "nbformat": 4,
  "nbformat_minor": 0,
  "metadata": {
    "colab": {
      "provenance": [],
      "include_colab_link": true
    },
    "kernelspec": {
      "name": "python3",
      "display_name": "Python 3"
    },
    "language_info": {
      "name": "python"
    }
  },
  "cells": [
    {
      "cell_type": "markdown",
      "metadata": {
        "id": "view-in-github",
        "colab_type": "text"
      },
      "source": [
        "<a href=\"https://colab.research.google.com/github/Bandi-Lavanya/FMML_2023_ASSIGNMENTS/blob/main/FMML_Module4_Lab3_2024.ipynb\" target=\"_parent\"><img src=\"https://colab.research.google.com/assets/colab-badge.svg\" alt=\"Open In Colab\"/></a>"
      ]
    },
    {
      "cell_type": "markdown",
      "source": [
        "# FOUNDATIONS OF MODERN MACHINE LEARNING, IIIT Hyderabad\n",
        "# Module 4: Perceptron and Gradient Descent\n",
        "## Lab 3: Gradient Descent\n",
        "\n",
        "Gradient descent is a very important algorithm to understand, as it underpins many of the more advanced algorithms used in Machine Learning and Deep Learning.\n",
        "\n",
        "A brief overview of the algorithm is\n",
        "\n",
        "\n",
        "*   start with a random initialization of the solution.\n",
        "*   incrementally change the solution by moving in the direction of negative gradient of the objective function.\n",
        "*   repeat the previous step until some convergence criteria is met.\n",
        "\n",
        "The key equation for change in weight is:\n",
        "$$w^{k+1} \\leftarrow w^k - \\eta \\Delta J$$\n",
        "\n",
        "In this lab, we will discuss stochastic gradient descent, mini-batch gradient descent and batch gradient descent.\n"
      ],
      "metadata": {
        "id": "XYxxkQg6xCjD"
      }
    },
    {
      "cell_type": "code",
      "metadata": {
        "id": "Fr-MnaGs7JmZ"
      },
      "source": [
        "import numpy as np\n",
        "import matplotlib.pyplot as plt"
      ],
      "execution_count": 1,
      "outputs": []
    },
    {
      "cell_type": "code",
      "metadata": {
        "id": "7ob_zZms7VOu"
      },
      "source": [
        "np.random.seed(42)"
      ],
      "execution_count": 2,
      "outputs": []
    },
    {
      "cell_type": "markdown",
      "metadata": {
        "id": "v4Kix4bcChiy"
      },
      "source": [
        "# Creating the Data\n",
        "\n",
        "Let's generate some data with:\n",
        "\\begin{equation} y_0= 4 \\end{equation}\n",
        "\\begin{equation} y_1= 3 \\end{equation}\n",
        "\n",
        "and also add some noise to the data."
      ]
    },
    {
      "cell_type": "code",
      "metadata": {
        "id": "MtAS7eFZ9hX6"
      },
      "source": [
        "X = 2 * np.random.rand(100, 1)\n",
        "y = 4 + 3 * X + np.random.randn(100, 1)"
      ],
      "execution_count": 16,
      "outputs": []
    },
    {
      "cell_type": "markdown",
      "metadata": {
        "id": "zD95NaF-CxM-"
      },
      "source": [
        "Let's also plot the data we just created"
      ]
    },
    {
      "cell_type": "code",
      "metadata": {
        "colab": {
          "base_uri": "https://localhost:8080/",
          "height": 466
        },
        "id": "3IiEP4BQ7Wja",
        "outputId": "4cb9d84b-cb84-4dd6-a052-db7766d6c854"
      },
      "source": [
        "plt.plot(X, y, 'b.')\n",
        "plt.xlabel('x')\n",
        "plt.ylabel('y', rotation=0)"
      ],
      "execution_count": 17,
      "outputs": [
        {
          "output_type": "execute_result",
          "data": {
            "text/plain": [
              "Text(0, 0.5, 'y')"
            ]
          },
          "metadata": {},
          "execution_count": 17
        },
        {
          "output_type": "display_data",
          "data": {
            "text/plain": [
              "<Figure size 640x480 with 1 Axes>"
            ],
            "image/png": "[encoded data removed]"
          },
          "metadata": {}
        }
      ]
    },
    {
      "cell_type": "markdown",
      "metadata": {
        "id": "ScwxpouoDDyZ"
      },
      "source": [
        "## Cost Function\n",
        "\n",
        "The equation for calculating cost function is as shown below. The cost function is only for linear regression. For other algorithms, the cost function will be different and the gradients would have to be derived from the cost functions\n",
        "\n",
        "\\begin{equation}\n",
        "J(y_{pred}) = \\frac{1}{2} m \\sum_{i=1}^{m} (h(y_{pred})^{(i)} - y^{(i)})^2\n",
        "\\end{equation}"
      ]
    },
    {
      "cell_type": "code",
      "metadata": {
        "id": "PUeTUAXH7ZaV",
        "colab": {
          "base_uri": "https://localhost:8080/"
        },
        "outputId": "7bc5baf6-ba63-40dd-a8b9-22726f22136c"
      },
      "source": [
        "def cal_cost(y_pred, X, y,cost_function):\n",
        "    m = len(y)\n",
        "\n",
        "    predictions = X.dot(y_pred)\n",
        "    cost = cost_function(predictions, y, m)\n",
        "\n",
        "    return cost\n",
        "\n",
        "# Define different cost functions for different algorithms\n",
        "def linear_regression_cost(predictions, y, m):\n",
        "    return (1 / (2 * m)) * np.sum(np.square(predictions - y))\n",
        "\n",
        "X = np.random.rand(10, 5)\n",
        "y = np.random.rand(10, 1)\n",
        "y_pred = np.random.rand(5, 1)\n",
        "\n",
        "# Using the linear regression cost function\n",
        "linear_regression_cost_value = cal_cost(y_pred, X, y, linear_regression_cost)\n",
        "print(\"Linear Regression Cost:\", linear_regression_cost_value)"
      ],
      "execution_count": 24,
      "outputs": [
        {
          "output_type": "stream",
          "name": "stdout",
          "text": [
            "Linear Regression Cost: 0.6095608495590261\n"
          ]
        }
      ]
    },
    {
      "cell_type": "markdown",
      "metadata": {
        "id": "FcXqsVNpDbKC"
      },
      "source": [
        "## Gradients\n",
        "\n",
        "\\begin{equation}\n",
        "y_{pred_0}: = y_{pred_0} -\\alpha . (1/m .\\sum_{i=1}^{m}(h(y_{pred}^{(i)} - y^{(i)}).X_0^{(i)})\n",
        "\\end{equation}\n",
        "\\begin{equation}\n",
        "y_{pred_1}: = y_{pred_1} -\\alpha . (1/m .\\sum_{i=1}^{m}(h(y_{pred}^{(i)} - y^{(i)}).X_0^{(i)})\n",
        "\\end{equation}\n",
        ".\n",
        "\n",
        ".\n",
        "\n",
        ".\n",
        "\n",
        ".\n",
        "\n",
        "\\begin{equation}\n",
        "y_{pred_j}: = y_{pred_j} -\\alpha . (1/m .\\sum_{i=1}^{m}(h(y_{pred}^{(i)} - y^{(i)}).X_0^{(i)})\n",
        "\\end{equation}"
      ]
    },
    {
      "cell_type": "code",
      "metadata": {
        "id": "fwxBFXP88NBW",
        "colab": {
          "base_uri": "https://localhost:8080/"
        },
        "outputId": "8fa3c273-1b69-4154-e58e-0a8e3785eb94"
      },
      "source": [
        "import numpy as np\n",
        "\n",
        "def gradient_descent(X, y, y_pred, cost_function, learning_rate=0.01, iterations=100):\n",
        "\n",
        "    m = len(y)\n",
        "    cost_history = np.zeros(iterations)\n",
        "    y_pred_history = np.zeros((iterations, len(y_pred)))\n",
        "\n",
        "    for it in range(iterations):\n",
        "        predictions = np.dot(X, y_pred)\n",
        "        y_pred = y_pred - (1 / m) * learning_rate * X.T.dot((predictions - y))\n",
        "        y_pred_history[it, :] = y_pred.T\n",
        "        cost_history[it] = cost_function(predictions, y, m)\n",
        "\n",
        "    return y_pred, cost_history, y_pred_history\n",
        "\n",
        "# Define the cost function (you can replace this with any other cost function)\n",
        "def linear_regression_cost(predictions, y, m):\n",
        "    return (1 / (2 * m)) * np.sum(np.square(predictions - y))\n",
        "\n",
        "X = np.random.rand(10, 5)\n",
        "y = np.random.rand(10, 1)\n",
        "y_pred = np.random.rand(5, 1)\n",
        "\n",
        "# Using the gradient descent function with linear regression cost function\n",
        "final_y_pred, cost_history, y_pred_history = gradient_descent(X, y, y_pred, linear_regression_cost)\n",
        "print(\"Final y_pred:\", final_y_pred)\n",
        "print(\"Cost History:\", cost_history)\n",
        "print(\"y_pred History:\", y_pred_history)\n"
      ],
      "execution_count": 25,
      "outputs": [
        {
          "output_type": "stream",
          "name": "stdout",
          "text": [
            "Final y_pred: [[0.46578722]\n",
            " [0.32460633]\n",
            " [0.027289  ]\n",
            " [0.52558841]\n",
            " [0.52952938]]\n",
            "Cost History: [0.95418337 0.93248107 0.9113153  0.89067278 0.87054057 0.850906\n",
            " 0.83175678 0.81308087 0.79486655 0.7771024  0.75977726 0.74288027\n",
            " 0.72640082 0.71032858 0.69465345 0.67936562 0.66445547 0.64991367\n",
            " 0.63573109 0.62189884 0.60840824 0.59525083 0.58241836 0.56990278\n",
            " 0.55769625 0.54579112 0.53417992 0.52285537 0.51181037 0.50103801\n",
            " 0.49053154 0.48028436 0.47029006 0.46054237 0.4510352  0.44176258\n",
            " 0.4327187  0.42389791 0.41529468 0.40690363 0.39871949 0.39073715\n",
            " 0.3829516  0.37535799 0.36795155 0.36072765 0.35368177 0.3468095\n",
            " 0.34010655 0.33356872 0.32719192 0.32097218 0.31490559 0.30898837\n",
            " 0.30321682 0.29758733 0.29209639 0.28674056 0.2815165  0.27642096\n",
            " 0.27145074 0.26660274 0.26187395 0.2572614  0.25276222 0.2483736\n",
            " 0.24409281 0.23991718 0.23584411 0.23187105 0.22799552 0.22421513\n",
            " 0.2205275  0.21693035 0.21342144 0.20999857 0.20665963 0.20340253\n",
            " 0.20022525 0.19712581 0.19410228 0.19115279 0.18827551 0.18546865\n",
            " 0.18273045 0.18005924 0.17745334 0.17491114 0.17243107 0.17001159\n",
            " 0.16765119 0.16534842 0.16310185 0.16091008 0.15877177 0.15668559\n",
            " 0.15465025 0.1526645  0.1507271  0.14883685]\n",
            "y_pred History: [[0.78151223 0.6506876  0.45820506 0.95692292 0.87314187]\n",
            " [0.77612996 0.64497683 0.4503243  0.94947847 0.86732168]\n",
            " [0.77081208 0.6393372  0.44254746 0.94212478 0.86157055]\n",
            " [0.76555779 0.63376782 0.43487323 0.93486071 0.8558876 ]\n",
            " [0.76036629 0.6282678  0.42730033 0.92768516 0.850272  ]\n",
            " [0.7552368  0.62283629 0.41982749 0.92059702 0.84472291]\n",
            " [0.75016857 0.61747242 0.41245346 0.9135952  0.83923949]\n",
            " [0.74516082 0.61217536 0.40517701 0.90667864 0.83382093]\n",
            " [0.74021282 0.60694427 0.39799692 0.89984626 0.82846643]\n",
            " [0.73532381 0.60177833 0.39091198 0.89309703 0.82317518]\n",
            " [0.73049306 0.59667673 0.383921   0.88642991 0.81794641]\n",
            " [0.72571986 0.59163865 0.37702281 0.87984387 0.81277933]\n",
            " [0.72100349 0.58666332 0.37021625 0.87333791 0.80767317]\n",
            " [0.71634325 0.58174994 0.36350017 0.86691103 0.80262719]\n",
            " [0.71173843 0.57689774 0.35687344 0.86056225 0.79764063]\n",
            " [0.70718836 0.57210596 0.35033494 0.85429059 0.79271274]\n",
            " [0.70269235 0.56737385 0.34388358 0.8480951  0.78784281]\n",
            " [0.69824974 0.56270066 0.33751825 0.84197484 0.78303012]\n",
            " [0.69385986 0.55808566 0.33123789 0.83592885 0.77827394]\n",
            " [0.68952206 0.55352811 0.32504143 0.82995623 0.77357358]\n",
            " [0.68523569 0.54902731 0.31892783 0.82405605 0.76892834]\n",
            " [0.68100011 0.54458254 0.31289604 0.81822742 0.76433754]\n",
            " [0.6768147  0.54019311 0.30694504 0.81246945 0.75980051]\n",
            " [0.67267884 0.53585832 0.30107382 0.80678126 0.75531656]\n",
            " [0.66859191 0.53157749 0.29528139 0.80116197 0.75088505]\n",
            " [0.6645533  0.52734995 0.28956676 0.79561074 0.74650532]\n",
            " [0.66056242 0.52317503 0.28392896 0.79012672 0.74217673]\n",
            " [0.65661868 0.51905208 0.27836701 0.78470906 0.73789863]\n",
            " [0.65272148 0.51498045 0.27287999 0.77935695 0.73367041]\n",
            " [0.64887027 0.5109595  0.26746694 0.77406958 0.72949145]\n",
            " [0.64506445 0.50698859 0.26212694 0.76884612 0.72536112]\n",
            " [0.64130348 0.5030671  0.25685908 0.7636858  0.72127884]\n",
            " [0.6375868  0.49919441 0.25166245 0.75858783 0.71724399]\n",
            " [0.63391385 0.49536992 0.24653617 0.75355142 0.71325599]\n",
            " [0.63028411 0.49159302 0.24147935 0.74857582 0.70931427]\n",
            " [0.62669702 0.48786312 0.23649113 0.74366027 0.70541823]\n",
            " [0.62315208 0.48417963 0.23157064 0.73880402 0.70156732]\n",
            " [0.61964874 0.48054197 0.22671704 0.73400634 0.69776097]\n",
            " [0.61618651 0.47694958 0.22192949 0.72926649 0.69399864]\n",
            " [0.61276486 0.47340187 0.21720716 0.72458376 0.69027976]\n",
            " [0.6093833  0.46989831 0.21254923 0.71995744 0.68660382]\n",
            " [0.60604133 0.46643833 0.20795491 0.71538683 0.68297026]\n",
            " [0.60273847 0.46302139 0.2034234  0.71087123 0.67937856]\n",
            " [0.59947422 0.45964695 0.1989539  0.70640996 0.67582821]\n",
            " [0.59624811 0.45631449 0.19454564 0.70200234 0.67231869]\n",
            " [0.59305967 0.45302348 0.19019785 0.69764771 0.66884949]\n",
            " [0.58990843 0.44977339 0.18590978 0.69334541 0.66542011]\n",
            " [0.58679393 0.44656373 0.18168068 0.68909479 0.66203006]\n",
            " [0.58371573 0.44339399 0.17750981 0.68489521 0.65867884]\n",
            " [0.58067336 0.44026366 0.17339644 0.68074603 0.65536599]\n",
            " [0.57766638 0.43717226 0.16933985 0.67664662 0.65209101]\n",
            " [0.57469437 0.4341193  0.16533934 0.67259637 0.64885344]\n",
            " [0.57175688 0.43110429 0.16139418 0.66859467 0.64565281]\n",
            " [0.56885349 0.42812678 0.1575037  0.66464091 0.64248867]\n",
            " [0.56598377 0.42518627 0.15366721 0.66073449 0.63936056]\n",
            " [0.56314732 0.42228233 0.14988403 0.65687484 0.63626804]\n",
            " [0.56034372 0.41941448 0.14615349 0.65306136 0.63321066]\n",
            " [0.55757256 0.41658227 0.14247494 0.64929349 0.63018798]\n",
            " [0.55483345 0.41378527 0.13884772 0.64557065 0.62719958]\n",
            " [0.55212598 0.41102303 0.13527118 0.6418923  0.62424503]\n",
            " [0.54944978 0.40829512 0.13174471 0.63825786 0.62132391]\n",
            " [0.54680444 0.40560111 0.12826765 0.63466681 0.61843581]\n",
            " [0.54418959 0.40294058 0.1248394  0.63111859 0.6155803 ]\n",
            " [0.54160485 0.4003131  0.12145935 0.62761269 0.612757  ]\n",
            " [0.53904986 0.39771827 0.11812689 0.62414857 0.6099655 ]\n",
            " [0.53652424 0.39515567 0.11484142 0.62072571 0.6072054 ]\n",
            " [0.53402763 0.39262491 0.11160235 0.6173436  0.60447632]\n",
            " [0.53155967 0.39012558 0.10840911 0.61400173 0.60177787]\n",
            " [0.52912001 0.3876573  0.10526111 0.61069961 0.59910967]\n",
            " [0.5267083  0.38521967 0.10215779 0.60743675 0.59647134]\n",
            " [0.5243242  0.38281231 0.09909859 0.60421264 0.59386252]\n",
            " [0.52196736 0.38043485 0.09608296 0.60102682 0.59128284]\n",
            " [0.51963745 0.37808691 0.09311035 0.5978788  0.58873193]\n",
            " [0.51733414 0.37576813 0.09018021 0.59476812 0.58620944]\n",
            " [0.51505709 0.37347813 0.08729203 0.59169432 0.58371502]\n",
            " [0.51280599 0.37121656 0.08444526 0.58865693 0.58124831]\n",
            " [0.51058051 0.36898306 0.08163939 0.58565551 0.57880898]\n",
            " [0.50838034 0.36677728 0.07887391 0.5826896  0.57639669]\n",
            " [0.50620516 0.36459888 0.07614831 0.57975876 0.57401109]\n",
            " [0.50405468 0.36244751 0.07346208 0.57686257 0.57165186]\n",
            " [0.50192857 0.36032284 0.07081475 0.57400059 0.56931867]\n",
            " [0.49982655 0.35822453 0.0682058  0.57117239 0.5670112 ]\n",
            " [0.49774832 0.35615225 0.06563478 0.56837756 0.56472913]\n",
            " [0.49569357 0.35410568 0.06310119 0.56561569 0.56247215]\n",
            " [0.49366204 0.35208449 0.06060457 0.56288635 0.56023993]\n",
            " [0.49165341 0.35008838 0.05814445 0.56018916 0.55803218]\n",
            " [0.48966743 0.34811701 0.05572038 0.5575237  0.5558486 ]\n",
            " [0.4877038  0.3461701  0.0533319  0.55488959 0.55368887]\n",
            " [0.48576225 0.34424732 0.05097856 0.55228644 0.55155272]\n",
            " [0.48384252 0.34234838 0.04865993 0.54971386 0.54943984]\n",
            " [0.48194432 0.34047298 0.04637556 0.54717148 0.54734994]\n",
            " [0.4800674  0.33862083 0.04412504 0.54465891 0.54528274]\n",
            " [0.47821149 0.33679163 0.04190792 0.54217579 0.54323797]\n",
            " [0.47637634 0.3349851  0.0397238  0.53972176 0.54121534]\n",
            " [0.47456169 0.33320096 0.03757225 0.53729645 0.53921457]\n",
            " [0.47276729 0.33143892 0.03545287 0.5348995  0.5372354 ]\n",
            " [0.47099288 0.32969871 0.03336525 0.53253057 0.53527756]\n",
            " [0.46923823 0.32798005 0.03130899 0.53018931 0.53334078]\n",
            " [0.46750309 0.32628268 0.0292837  0.52787537 0.53142481]\n",
            " [0.46578722 0.32460633 0.027289   0.52558841 0.52952938]]\n"
          ]
        }
      ]
    },
    {
      "cell_type": "markdown",
      "metadata": {
        "id": "1iSohSB2EtK1"
      },
      "source": [
        "Let's do 1000 iterations with a learning rate of 0.01.\n",
        "We will start with a random prediction."
      ]
    },
    {
      "cell_type": "code",
      "metadata": {
        "colab": {
          "base_uri": "https://localhost:8080/"
        },
        "id": "18AX7hrU8bv5",
        "outputId": "6ecdd897-e039-458f-c7d1-02e3de7c4298"
      },
      "source": [
        "lr = 0.01\n",
        "n_iter = 1000\n",
        "\n",
        "y_pred = np.random.randn(2,1)\n",
        "X_b = np.c_[np.ones((len(X), 1)), X]\n",
        "y_pred, cost_history, y_pred_history = gradient_descent(X_b, y, y_pred, lr, n_iter)\n",
        "\n",
        "print('y_pred[0]: {:0.3f}\\ny_pred[1]: {:0.3f}'.format(y_pred[0][0], y_pred[1][0]))\n",
        "print('Final error: {:0.3f}'.format(cost_history[-1]))"
      ],
      "execution_count": 20,
      "outputs": [
        {
          "output_type": "stream",
          "name": "stdout",
          "text": [
            "y_pred[0]: 3.593\n",
            "y_pred[1]: 3.357\n",
            "Final error: 5773.025\n"
          ]
        }
      ]
    },
    {
      "cell_type": "markdown",
      "metadata": {
        "id": "m7fao2MaE216"
      },
      "source": [
        "Plotting the error vs Number of iterations"
      ]
    },
    {
      "cell_type": "code",
      "metadata": {
        "colab": {
          "base_uri": "https://localhost:8080/",
          "height": 713
        },
        "id": "DrkrAAbk8hIs",
        "outputId": "ee5432f4-8574-4732-c9aa-ee1661f4caa9"
      },
      "source": [
        "fig, ax = plt.subplots(figsize=(12,8))\n",
        "\n",
        "ax.set_ylabel('Error')\n",
        "ax.set_xlabel('Number of iterations')\n",
        "\n",
        "ax.plot(range(n_iter), cost_history, 'b.')"
      ],
      "execution_count": 21,
      "outputs": [
        {
          "output_type": "execute_result",
          "data": {
            "text/plain": [
              "[<matplotlib.lines.Line2D at 0x7aa2680a74c0>]"
            ]
          },
          "metadata": {},
          "execution_count": 21
        },
        {
          "output_type": "display_data",
          "data": {
            "text/plain": [
              "<Figure size 1200x800 with 1 Axes>"
            ],
            "image/png": "[encoded data removed]"
          },
          "metadata": {}
        }
      ]
    },
    {
      "cell_type": "markdown",
      "metadata": {
        "id": "IG5tWAy-FCaW"
      },
      "source": [
        "Zooming in..."
      ]
    },
    {
      "cell_type": "code",
      "metadata": {
        "colab": {
          "base_uri": "https://localhost:8080/",
          "height": 693
        },
        "id": "WZ7BoFHy8kTk",
        "outputId": "fefd83a7-cbe2-4083-836d-26a25ce11512"
      },
      "source": [
        "fig,ax = plt.subplots(figsize=(10,8))\n",
        "ax.plot(range(200), cost_history[:200], 'b.')"
      ],
      "execution_count": 22,
      "outputs": [
        {
          "output_type": "execute_result",
          "data": {
            "text/plain": [
              "[<matplotlib.lines.Line2D at 0x7aa259717bb0>]"
            ]
          },
          "metadata": {},
          "execution_count": 22
        },
        {
          "output_type": "display_data",
          "data": {
            "text/plain": [
              "<Figure size 1000x800 with 1 Axes>"
            ],
            "image/png": "[encoded data removed]"
          },
          "metadata": {}
        }
      ]
    },
    {
      "cell_type": "markdown",
      "metadata": {
        "id": "JYhOp3fjnh2G"
      },
      "source": [
        "# Stochastic Gradient Descent"
      ]
    },
    {
      "cell_type": "markdown",
      "source": [
        "In Batch Gradient Descent we were considering all the examples for every step of Gradient Descent. But what if our dataset is very huge. Deep learning models crave for data. The more the data the more chances of a model to be good. Suppose our dataset has 5 million examples, then just to take one step the model will have to calculate the gradients of all the 5 million examples. This does not seem an efficient way. To tackle this problem we have Stochastic Gradient Descent. In Stochastic Gradient Descent (SGD), we consider just one example at a time to take a single step."
      ],
      "metadata": {
        "id": "10N2dcwWUctJ"
      }
    },
    {
      "cell_type": "code",
      "metadata": {
        "id": "aVwD7Cqw8m1d",
        "colab": {
          "base_uri": "https://localhost:8080/"
        },
        "outputId": "d6aec574-e363-499d-d66a-4eb1e8cd9733"
      },
      "source": [
        "import numpy as np\n",
        "\n",
        "def stochastic_gradient_descent(X, y, y_pred, cost_function, learning_rate=0.01, iterations=10):\n",
        "\n",
        "    m = len(y)\n",
        "    cost_history = np.zeros(iterations)\n",
        "\n",
        "    for it in range(iterations):\n",
        "        cost = 0.0\n",
        "\n",
        "        for i in range(m):\n",
        "            rand_ind = np.random.randint(0, m)\n",
        "            X_i = X[rand_ind, :].reshape(1, X.shape[1])\n",
        "            y_i = y[rand_ind].reshape(1, 1)\n",
        "\n",
        "            predictions = np.dot(X_i, y_pred)\n",
        "            y_pred = y_pred - learning_rate * X_i.T.dot((predictions - y_i))\n",
        "\n",
        "            cost += cost_function(predictions, y_i, 1)\n",
        "\n",
        "        cost_history[it] = cost\n",
        "\n",
        "    return y_pred, cost_history\n",
        "\n",
        "# Define the cost function (you can replace this with any other cost function)\n",
        "def linear_regression_cost(predictions, y, m):\n",
        "    return (1 / (2 * m)) * np.sum(np.square(predictions - y))\n",
        "\n",
        "X = np.random.rand(10, 5)\n",
        "y = np.random.rand(10, 1)\n",
        "y_pred = np.random.rand(5, 1)\n",
        "\n",
        "# Using the stochastic gradient descent function with linear regression cost function\n",
        "final_y_pred, cost_history = stochastic_gradient_descent(X, y, y_pred, linear_regression_cost)\n",
        "print(\"Final y_pred:\", final_y_pred)\n",
        "print(\"Cost History:\", cost_history)\n"
      ],
      "execution_count": 34,
      "outputs": [
        {
          "output_type": "stream",
          "name": "stdout",
          "text": [
            "Final y_pred: [[0.46436796]\n",
            " [0.53589396]\n",
            " [0.1563007 ]\n",
            " [0.54580275]\n",
            " [0.06166396]]\n",
            "Cost History: [10.19635296  5.4444833   4.24834778  2.06492985  4.22638532  1.91661462\n",
            "  1.48928275  0.50757491  1.37625864  2.80847674]\n"
          ]
        }
      ]
    },
    {
      "cell_type": "code",
      "metadata": {
        "colab": {
          "base_uri": "https://localhost:8080/"
        },
        "id": "Yk6pfB5c8tPz",
        "outputId": "b0f5e421-151c-47a0-8f68-ac9a1d33f515"
      },
      "source": [
        "lr = 0.5\n",
        "n_iter = 50\n",
        "y_pred = np.random.randn(X_b.shape[1], 1)\n",
        "X_b = np.c_[np.ones((len(X), 1)), X]\n",
        "final_y_pred, cost_history = stochastic_gradient_descent(X_b, y, y_pred, linear_regression_cost, lr, n_iter)\n",
        "\n",
        "print('y_pred[0]: {:0.3f}\\ny_pred[1]: {:0.3f}'.format(final_y_pred[0][0], final_y_pred[1][0]))\n",
        "print('Final error: {:0.3f}'.format(cost_history[-1]))"
      ],
      "execution_count": 35,
      "outputs": [
        {
          "output_type": "stream",
          "name": "stdout",
          "text": [
            "y_pred[0]: 0.834\n",
            "y_pred[1]: -0.136\n",
            "Final error: 1.384\n"
          ]
        }
      ]
    },
    {
      "cell_type": "code",
      "metadata": {
        "colab": {
          "base_uri": "https://localhost:8080/",
          "height": 713
        },
        "id": "YiJUgS7o8u2e",
        "outputId": "9d844f6c-1bfc-4039-b253-121a308874cd"
      },
      "source": [
        "fig, ax = plt.subplots(figsize=(10,8))\n",
        "\n",
        "ax.set_ylabel('Error')\n",
        "ax.set_xlabel('Number of iterations')\n",
        "y_pred = np.random.randn(2,1)\n",
        "\n",
        "ax.plot(range(n_iter), cost_history, 'b.')"
      ],
      "execution_count": 36,
      "outputs": [
        {
          "output_type": "execute_result",
          "data": {
            "text/plain": [
              "[<matplotlib.lines.Line2D at 0x7aa268289f90>]"
            ]
          },
          "metadata": {},
          "execution_count": 36
        },
        {
          "output_type": "display_data",
          "data": {
            "text/plain": [
              "<Figure size 1000x800 with 1 Axes>"
            ],
            "image/png": "[encoded data removed]"
          },
          "metadata": {}
        }
      ]
    },
    {
      "cell_type": "markdown",
      "metadata": {
        "id": "ScckWktynk1o"
      },
      "source": [
        "# Mini Batch Gradient Descent"
      ]
    },
    {
      "cell_type": "markdown",
      "source": [
        "We have seen the Batch Gradient Descent. We have also seen the Stochastic Gradient Descent. Batch Gradient Descent can be used for smoother curves. SGD can be used when the dataset is large. Batch Gradient Descent converges directly to minima. SGD converges faster for larger datasets. But, since in SGD we use only one example at a time, we cannot implement the vectorized implementation on it. This can slow down the computations. To tackle this problem, a mixture of Batch Gradient Descent and SGD is used.\n",
        "Neither we use all the dataset all at once nor we use the single example at a time. We use a batch of a fixed number of training examples which is less than the actual dataset and call it a mini-batch. Doing this helps us achieve the advantages of both the former variants we saw."
      ],
      "metadata": {
        "id": "ZTVz-QssUkuE"
      }
    },
    {
      "cell_type": "code",
      "metadata": {
        "id": "4JtxFVL78wEm",
        "colab": {
          "base_uri": "https://localhost:8080/"
        },
        "outputId": "2c2d9d4b-4626-40f9-ee89-e5e5f8568c94"
      },
      "source": [
        "import numpy as np\n",
        "\n",
        "def minibatch_gradient_descent(X, y, y_pred, cost_function, learning_rate=0.01, iterations=10, batch_size=20):\n",
        "\n",
        "    m = len(y)\n",
        "    cost_history = np.zeros(iterations)\n",
        "    n_batches = int(m / batch_size)\n",
        "\n",
        "    for it in range(iterations):\n",
        "        cost = 0.0\n",
        "        indices = np.random.permutation(m)\n",
        "        X = X[indices]\n",
        "        y = y[indices]\n",
        "\n",
        "        for i in range(0, m, batch_size):\n",
        "            X_i = X[i: i + batch_size]\n",
        "            y_i = y[i: i + batch_size]\n",
        "\n",
        "            X_i = np.c_[np.ones(len(X_i)), X_i]\n",
        "            predictions = np.dot(X_i, y_pred)\n",
        "\n",
        "            y_pred = y_pred - (1 / m) * learning_rate * X_i.T.dot((predictions - y_i))\n",
        "            cost += cost_function(predictions, y_i, len(y_i))\n",
        "\n",
        "        cost_history[it]  = cost\n",
        "\n",
        "    return y_pred, cost_history\n",
        "\n",
        "# Define the cost function (you can replace this with any other cost function)\n",
        "def linear_regression_cost(predictions, y, m):\n",
        "    return (1 / (2 * m)) * np.sum(np.square(predictions - y))\n",
        "X = np.random.rand(10, 5)\n",
        "y = np.random.rand(10, 1)\n",
        "y_pred = np.random.randn(6, 1)  # Assuming X has 5 features, add 1 for the bias term\n",
        "final_y_pred, cost_history = minibatch_gradient_descent(X, y, y_pred, linear_regression_cost, learning_rate=0.01, iterations=10, batch_size=2)\n",
        "\n",
        "print('Final y_pred:', final_y_pred)\n",
        "print('Cost History:', cost_history)\n"
      ],
      "execution_count": 57,
      "outputs": [
        {
          "output_type": "stream",
          "name": "stdout",
          "text": [
            "Final y_pred: [[ 0.48570984]\n",
            " [-1.49731229]\n",
            " [ 0.15838919]\n",
            " [ 0.77576325]\n",
            " [ 0.05749061]\n",
            " [ 0.07766834]]\n",
            "Cost History: [1.8766227  1.86800869 1.86084633 1.85001936 1.84506095 1.84093806\n",
            " 1.8322697  1.82877103 1.81950619 1.81443621]\n"
          ]
        }
      ]
    },
    {
      "cell_type": "code",
      "source": [
        "lr = 0.1\n",
        "n_iter = 200\n",
        "y_pred = np.random.randn(2,1)\n",
        "y_pred, cost_history = minibatch_gradient_descent(X, y, y_pred, lr, n_iter)\n",
        "\n",
        "print('y_pred[0]: {:0.3f}\\ny_pred[1]: {:0.3f}'.format(y_pred[0][0], y_pred[1][0]))\n",
        "print('Final error: {:0.3f}'.format(cost_history[-1]))"
      ],
      "metadata": {
        "id": "Ef7BiGrJ6z6a"
      },
      "execution_count": null,
      "outputs": []
    },
    {
      "cell_type": "code",
      "metadata": {
        "colab": {
          "base_uri": "https://localhost:8080/",
          "height": 713
        },
        "id": "Q_ivOYHT817C",
        "outputId": "e431ef17-fc31-44e2-ab71-964d8ca75aa3"
      },
      "source": [
        "fig, ax = plt.subplots(figsize=(10,8))\n",
        "\n",
        "ax.set_ylabel('Error')\n",
        "ax.set_xlabel('Number of iterations')\n",
        "y_pred = np.random.randn(2,1)\n",
        "\n",
        "ax.plot(range(n_iter), cost_history, 'b.')"
      ],
      "execution_count": 15,
      "outputs": [
        {
          "output_type": "execute_result",
          "data": {
            "text/plain": [
              "[<matplotlib.lines.Line2D at 0x7aa26818b8e0>]"
            ]
          },
          "metadata": {},
          "execution_count": 15
        },
        {
          "output_type": "display_data",
          "data": {
            "text/plain": [
              "<Figure size 1000x800 with 1 Axes>"
            ],
            "image/png": "[encoded data removed]"
          },
          "metadata": {}
        }
      ]
    },
    {
      "cell_type": "markdown",
      "source": [
        "Things to try out:\n",
        "\n",
        "1. Change batch size in mini-batch gradient descent.\n",
        "2. Test all the three out on real datasets.\n",
        "3. Compare the effects of changing learning rate by the same amount in Batch GD, SGD and Mini-batch GD."
      ],
      "metadata": {
        "id": "0neTARjKUoP4"
      }
    },
    {
      "cell_type": "markdown",
      "source": [
        "##QUESTION-1:\n",
        "Change batch size in mini-batch gradient descent.\n",
        "\n",
        "\n",
        "##ANSWER:\n",
        "In mini-batch gradient descent, the batch size refers to the number of training examples used in each iteration to update the model's parameters. Changing the batch size can have implications for the training process, including computational efficiency and the quality of the learned model.\n",
        "\n",
        "Here are some considerations when changing the batch size:\n",
        "\n",
        "**Computational Efficiency:**\n",
        "\n",
        "Larger batch sizes often lead to faster training times because you can take advantage of parallel processing on modern hardware. Smaller batch sizes may result in slower training times, but they might be necessary if the dataset is too large to fit into memory.\n",
        "\n",
        "**Stochasticity and Noise:**\n",
        "\n",
        "Smaller batch sizes introduce more randomness into the parameter updates since each batch is a smaller sample of the overall dataset. Larger batch sizes provide a more stable estimate of the gradient but might miss out on some local structure in the data.\n",
        "\n",
        "**Memory Constraints:**\n",
        "\n",
        "If your dataset is large, you might be limited by the amount of available memory. In such cases, you might need to use a smaller batch size.\n",
        "\n",
        "**Convergence Behavior:**\n",
        "\n",
        "The choice of batch size can affect the convergence behavior of the training process. Smaller batch sizes might result in faster convergence, but larger batch sizes might provide a smoother convergence.\n",
        "\n",
        "**Generalization:**\n",
        "\n",
        "Smaller batch sizes can sometimes improve generalization by preventing the model from overfitting to the training data. Larger batch sizes may lead to faster convergence but could result in overfitting. Here's how you can change the batch size in practice:\n",
        "\n",
        "In deep learning frameworks like TensorFlow or PyTorch, you can usually specify the batch size when creating or configuring the data loader or iterator.\n",
        "\n",
        "**Example in PyTorch:**\n",
        "\n",
        "python Copy code train_loader = torch.utils.data.DataLoader(train_dataset, batch_size=new_batch_size, shuffle=True) When implementing custom optimization algorithms, you need to modify the code that processes each mini-batch.\n",
        "\n",
        "Experimenting with different batch sizes and monitoring the training/validation performance is often necessary to determine the optimal batch size for a specific problem. It's a hyperparameter that should be tuned based on the characteristics of your data and the requirements of your model."
      ],
      "metadata": {
        "id": "RdTenxCf7dcA"
      }
    },
    {
      "cell_type": "code",
      "source": [
        "import numpy as np\n",
        "import matplotlib.pyplot as plt\n",
        "\n",
        "def minibatch_gradient_descent(X, y, y_pred, learning_rate=0.01, iterations=10, batch_size=20):\n",
        "  X = np.random.rand(10, 5)\n",
        "  y = np.random.rand(10, 1)\n",
        "  lr = 0.1\n",
        "  n_iter = 200\n",
        "  y_pred = np.random.randn(X.shape[1] + 1, 1)  # Assuming X has 5 features, add 1 for the bias term\n",
        "\n",
        "# Vary the batch sizes\n",
        "  batch_sizes = [5, 10, 20, 50]\n",
        "  colors = ['b', 'g', 'r', 'c']\n",
        "\n",
        "  fig, ax = plt.subplots(figsize=(10, 8))\n",
        "  ax.set_ylabel('Error')\n",
        "  ax.set_xlabel('Number of iterations')\n",
        "\n",
        "  for batch_size, color in zip(batch_sizes, colors):\n",
        "    _, cost_history = minibatch_gradient_descent(X, y, y_pred.copy(), lr, n_iter, batch_size)\n",
        "    ax.plot(range(n_iter), cost_history, '.', label=f'Batch Size {batch_size}', color=color)\n",
        "\n",
        "  ax.legend()\n",
        "  plt.show()\n"
      ],
      "metadata": {
        "id": "QtQKFDcv7hjY"
      },
      "execution_count": 59,
      "outputs": []
    },
    {
      "cell_type": "markdown",
      "source": [
        "##QUESTION-2:\n",
        "Test all the three out on real datasets.\n",
        "\n",
        "##ANSWER:\n",
        "Testing different gradient descent variants on real datasets involves applying these algorithms to actual data and observing their performance. Below, I'll outline a general approach for testing these variants on real datasets:\n",
        "\n",
        "1. Prepare Your Data:\n",
        "Load your real dataset. Ensure it's preprocessed, including handling missing values, scaling features, encoding categorical variables, etc.\n",
        "2. Split the Data:\n",
        "Split your dataset into training and testing sets. The training set is used for training the model, while the testing set is used to evaluate its performance.\n",
        "3. Initialize Parameters:\n",
        "Initialize the parameters for your model, including the learning rate, number of iterations, and initial values for coefficients.\n",
        "4. Implement the Variants:\n",
        "Implement the three gradient descent variants (Batch, Stochastic, Mini-batch) with the cost function suitable for your problem (e.g., linear regression, logistic regression).\n",
        "5. Train the Models:\n",
        "Train each model using the training dataset. Monitor the cost (error) over iterations.\n",
        "6. Evaluate on Test Set:\n",
        "After training, evaluate the models on the testing set. Calculate performance metrics such as mean squared error, accuracy, or any metric suitable for your problem.\n",
        "7. Compare Results:\n",
        "Compare the performance of the three gradient descent variants. Look at metrics like convergence speed, accuracy, and computation time.\n",
        "Example Code:\n",
        "Here's a simplified example using scikit-learn and linear regression for illustration. Please adapt it to your specific use case:\n",
        "\n"
      ],
      "metadata": {
        "id": "UtY-V7m59TF1"
      }
    },
    {
      "cell_type": "code",
      "source": [
        "#2 task\n",
        "import numpy as np\n",
        "from sklearn import datasets\n",
        "from sklearn.model_selection import train_test_split\n",
        "from sklearn.preprocessing import StandardScaler\n",
        "import tensorflow as tf\n",
        "from tensorflow import keras\n",
        "from tensorflow.keras import layers\n",
        "\n",
        "# Load the Iris dataset\n",
        "iris = datasets.load_iris()\n",
        "X, y = iris.data, iris.target\n",
        "\n",
        "# Split the dataset into training and testing sets\n",
        "X_train, X_test, y_train, y_test = train_test_split(X, y, test_size=0.2, random_state=42)\n",
        "\n",
        "# Standardize the features\n",
        "scaler = StandardScaler()\n",
        "X_train = scaler.fit_transform(X_train)\n",
        "X_test = scaler.transform(X_test)\n",
        "\n",
        "# Define a simple neural network model\n",
        "model = keras.Sequential([\n",
        "    layers.Dense(10, activation='relu', input_shape=(4,)),\n",
        "    layers.Dense(3, activation='softmax')\n",
        "])\n",
        "\n",
        "# Compile the model\n",
        "model.compile(optimizer='adam', loss='sparse_categorical_crossentropy', metrics=['accuracy'])\n",
        "\n",
        "# Experiment with different batch sizes\n",
        "batch_sizes = [32, 64, 128]\n",
        "\n",
        "for batch_size in batch_sizes:\n",
        "    print(f\"\\nTraining with batch size: {batch_size}\")\n",
        "\n",
        "    # Fit the model\n",
        "    history = model.fit(X_train, y_train, epochs=50, batch_size=batch_size, validation_data=(X_test, y_test), verbose=0)\n",
        "\n",
        "    # Evaluate the model\n",
        "    test_loss, test_acc = model.evaluate(X_test, y_test, verbose=0)\n",
        "\n",
        "    # Print results\n",
        "    print(f'Test accuracy with batch size {batch_size}: {test_acc:.4f}')\n"
      ],
      "metadata": {
        "colab": {
          "base_uri": "https://localhost:8080/"
        },
        "id": "i9Gnuzrw9SAk",
        "outputId": "1c0e3b66-0542-4a9f-a6f2-482bad5deaff"
      },
      "execution_count": 62,
      "outputs": [
        {
          "output_type": "stream",
          "name": "stdout",
          "text": [
            "\n",
            "Training with batch size: 32\n",
            "Test accuracy with batch size 32: 0.9000\n",
            "\n",
            "Training with batch size: 64\n",
            "Test accuracy with batch size 64: 0.9000\n",
            "\n",
            "Training with batch size: 128\n",
            "Test accuracy with batch size 128: 0.9667\n"
          ]
        }
      ]
    },
    {
      "cell_type": "markdown",
      "source": [
        "##QUESTION-3:\n",
        "\n",
        "Compare the effects of changing learning rate by the same amount in Batch GD, SGD and Mini-batch GD.\n",
        "\n",
        "##ANSWER:\n",
        "Changing the learning rate in Batch Gradient Descent (BGD), Stochastic Gradient Descent (SGD), and Mini-batch Gradient Descent (MBGD) can have different effects on the training process. The learning rate is a critical hyperparameter that influences the step size during parameter updates. Below, I'll discuss the effects of changing the learning rate in each optimization algorithm:\n",
        "\n",
        "**Batch Gradient Descent (BGD):**\n",
        " Effect of Increasing Learning Rate:\n",
        "\n",
        "If the learning rate is too high, BGD may overshoot the optimal values for the parameters and fail to converge. This can lead to oscillations or divergence in the cost function. Conversely, if the learning rate is too low, BGD might take a long time to converge or get stuck in a suboptimal solution.\n",
        "\n",
        "**Stochastic Gradient Descent (SGD):**\n",
        "Effect of Increasing Learning Rate:\n",
        "\n",
        "In SGD, each parameter update is based on a single training example. Increasing the learning rate can result in faster convergence, as updates are applied more aggressively. However, a very high learning rate might lead to instability and cause the algorithm to oscillate or diverge. It may also make the algorithm sensitive to noise in individual examples.\n",
        "\n",
        "**Mini-batch Gradient Descent (MBGD):** Effect of Increasing Learning Rate:\n",
        "\n",
        "MBGD combines aspects of both BGD and SGD. It processes a mini-batch of examples in each iteration. A higher learning rate in MBGD can speed up convergence compared to a very small learning rate. It can take advantage of the computational efficiency of mini-batch processing. Similar to BGD and SGD, setting the learning rate too high in MBGD can result in overshooting and convergence issues.\n",
        "\n",
        "**Comparison: Convergence Speed:**\n",
        "\n",
        "BGD generally has smoother convergence, and changing the learning rate has a more gradual effect. SGD and MBGD, with higher learning rates, can converge faster, but they might exhibit more oscillations due to the random sampling of examples.\n",
        "\n",
        "**Stability:**\n",
        "\n",
        "BGD is more stable but might be computationally expensive for large datasets. SGD and MBGD with very high learning rates can be less stable and may require tuning to find an optimal rate.\n",
        "\n",
        "**Noise Sensitivity:**\n",
        "\n",
        "SGD and MBGD are more sensitive to noise in the data due to the use of random subsets (mini-batches or single examples). BGD is less affected by noise since it considers the entire dataset in each iteration.\n",
        "\n",
        "**Practical Considerations:**\n",
        "\n",
        " It's common to perform a learning rate search, trying different values and monitoring the training process to find the one that balances convergence speed and stability. Learning rate schedules or adaptive learning rate methods (e.g., Adam, RMSprop) can be useful in adjusting the learning rate during training. In practice, the optimal learning rate may vary for different datasets and models. Therefore, it's essential to experiment with different learning rates and monitor the training performance to find the most suitable value."
      ],
      "metadata": {
        "id": "p7paf0xo-UF8"
      }
    }
  ]
}